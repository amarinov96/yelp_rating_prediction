{
 "cells": [
  {
   "cell_type": "code",
   "execution_count": 4,
   "metadata": {},
   "outputs": [
    {
     "name": "stdout",
     "output_type": "stream",
     "text": [
      "[nltk_data] Downloading package stopwords to\n",
      "[nltk_data]     C:\\Users\\szbdr\\AppData\\Roaming\\nltk_data...\n",
      "[nltk_data]   Package stopwords is already up-to-date!\n"
     ]
    }
   ],
   "source": [
    "import numpy\n",
    "import urllib\n",
    "import scipy.optimize\n",
    "import random\n",
    "from collections import defaultdict\n",
    "import math\n",
    "import nltk\n",
    "import string\n",
    "from nltk.stem.porter import *\n",
    "nltk.download('stopwords')\n",
    "from nltk.corpus import stopwords\n",
    "from sklearn import linear_model\n",
    "from sklearn import svm\n",
    "from sklearn.metrics import mean_squared_error"
   ]
  },
  {
   "cell_type": "code",
   "execution_count": 5,
   "metadata": {},
   "outputs": [],
   "source": [
    "def readData(fname, startLine, endLine):\n",
    "    count = 0\n",
    "    for l in open(fname, encoding=\"UTF-8\"):\n",
    "        if count < startLine:\n",
    "            count += 1\n",
    "            continue\n",
    "        elif count < endLine:\n",
    "            l=l.replace(\":null\",'\"\"')\n",
    "            yield eval(l)\n",
    "            count += 1\n",
    "        else:\n",
    "            break"
   ]
  },
  {
   "cell_type": "code",
   "execution_count": 6,
   "metadata": {},
   "outputs": [],
   "source": [
    "review = list(readData(\"yelp_academic_dataset_review.json\",0,100000))"
   ]
  },
  {
   "cell_type": "code",
   "execution_count": 7,
   "metadata": {},
   "outputs": [],
   "source": [
    "wordCount = defaultdict(int)\n",
    "punctuation = set(string.punctuation)\n",
    "stemmer = PorterStemmer()\n",
    "stopwordSet = set()\n",
    "#Process stopwords set\n",
    "for sw in stopwords.words('english'):\n",
    "    nonPunSW = ''.join([c for c in sw if not c in punctuation])\n",
    "    stopwordSet.add(stemmer.stem(nonPunSW))\n",
    "\n",
    "for d in review:\n",
    "    r = ''.join([c for c in d['text'].lower() if not c in punctuation])\n",
    "    for w in r.split():\n",
    "        w = stemmer.stem(w)\n",
    "        if w not in stopwordSet:\n",
    "            wordCount[w] += 1\n",
    "\n",
    "counts = [(wordCount[w], w) for w in wordCount]\n",
    "counts.sort()\n",
    "counts.reverse()"
   ]
  },
  {
   "cell_type": "code",
   "execution_count": 8,
   "metadata": {},
   "outputs": [],
   "source": [
    "words = [x[1] for x in counts[:2000]]\n",
    "wordId = dict(zip(words, range(len(words))))\n",
    "wordSet = set(words)"
   ]
  },
  {
   "cell_type": "code",
   "execution_count": 9,
   "metadata": {},
   "outputs": [],
   "source": [
    "def feature(datum):\n",
    "    feat = [0]*len(words)\n",
    "    r = ''.join([c for c in datum['text'].lower() if not c in punctuation])\n",
    "    for w in r.split():\n",
    "        w = stemmer.stem(w)\n",
    "        if w not in stopwordSet:\n",
    "            if w in wordSet:\n",
    "                feat[wordId[w]] += 1\n",
    "    feat.append(1) #offset\n",
    "    return feat"
   ]
  },
  {
   "cell_type": "code",
   "execution_count": 10,
   "metadata": {},
   "outputs": [],
   "source": [
    "# Run a linear model using the 2000 most popular words,\n",
    "# stemmed, with stopwords removed, with no preclassification by category\n",
    "X = [feature(d) for d in review]\n",
    "y = [d['stars'] for d in review]\n",
    "\n",
    "valReview = list(readData(\"yelp_academic_dataset_review.json\",100000,125000))\n",
    "valX = [feature(d) for d in valReview]\n",
    "valy = [d['stars'] for d in valReview]"
   ]
  },
  {
   "cell_type": "code",
   "execution_count": 12,
   "metadata": {},
   "outputs": [
    {
     "data": {
      "text/plain": [
       "(1.0007913432419648, 1.0416184658743517)"
      ]
     },
     "execution_count": 12,
     "metadata": {},
     "output_type": "execute_result"
    }
   ],
   "source": [
    "clf = linear_model.Ridge(1.0, fit_intercept=False)\n",
    "clf.fit(X, y)\n",
    "theta = clf.coef_\n",
    "predictions = clf.predict(X)\n",
    "#Run MSE the trainning set with the model 1.0 alpha \n",
    "trainRMSE = math.sqrt(mean_squared_error(y, predictions))\n",
    "\n",
    "valPredictions = clf.predict(valX)\n",
    "#Run MSE the validation set with the model 1.0 alpha \n",
    "valRMSE = math.sqrt(mean_squared_error(valy, valPredictions))\n",
    "trainRMSE, valRMSE"
   ]
  },
  {
   "cell_type": "code",
   "execution_count": 13,
   "metadata": {},
   "outputs": [
    {
     "data": {
      "text/plain": [
       "(1.0008011767214173, 1.0411741847591955)"
      ]
     },
     "execution_count": 13,
     "metadata": {},
     "output_type": "execute_result"
    }
   ],
   "source": [
    "clf10 = linear_model.Ridge(10.0, fit_intercept=False)\n",
    "clf10.fit(X, y)\n",
    "theta10 = clf10.coef_\n",
    "predictions10 = clf10.predict(X)\n",
    "#Run MSE the training set with the model 10.0 alpha \n",
    "trainRMSE10 =math.sqrt(mean_squared_error(y, predictions10))\n",
    "\n",
    "valPredictions10 = clf10.predict(valX)\n",
    "#Run MSE the validation set with the model 10.0 alpha \n",
    "valRMSE10 = math.sqrt(mean_squared_error(valy, valPredictions10))\n",
    "trainRMSE10, valRMSE10"
   ]
  },
  {
   "cell_type": "code",
   "execution_count": 14,
   "metadata": {},
   "outputs": [
    {
     "data": {
      "text/plain": [
       "(1.0015330332357493, 1.0381008345891514)"
      ]
     },
     "execution_count": 14,
     "metadata": {},
     "output_type": "execute_result"
    }
   ],
   "source": [
    "clf100 = linear_model.Ridge(100.0, fit_intercept=False)\n",
    "clf100.fit(X, y)\n",
    "theta100 = clf100.coef_\n",
    "predictions100 = clf100.predict(X)\n",
    "#Run MSE the trainning set with the model 100.0 alpha \n",
    "trainRMSE100 = math.sqrt(mean_squared_error(y, predictions100))\n",
    "\n",
    "valPredictions100 = clf100.predict(valX)\n",
    "#Run MSE the validation set with the model 100.0 alpha \n",
    "valRMSE100 = math.sqrt(mean_squared_error(valy, valPredictions100))\n",
    "trainRMSE100, valRMSE100"
   ]
  },
  {
   "cell_type": "code",
   "execution_count": 15,
   "metadata": {},
   "outputs": [
    {
     "data": {
      "text/plain": [
       "(1.0007912414330795, 1.0416646901545525)"
      ]
     },
     "execution_count": 15,
     "metadata": {},
     "output_type": "execute_result"
    }
   ],
   "source": [
    "clf01 = linear_model.Ridge(0.1, fit_intercept=False)\n",
    "clf01.fit(X, y)\n",
    "theta01 = clf01.coef_\n",
    "predictions01 = clf01.predict(X)\n",
    "#Run MSE the trainning set with the model 0.1 alpha \n",
    "trainRMSE01 = math.sqrt(mean_squared_error(y, predictions01))\n",
    "\n",
    "valPredictions01 = clf01.predict(valX)\n",
    "#Run MSE the validation set with the model 0.1 alpha \n",
    "valRMSE01 = math.sqrt(mean_squared_error(valy, valPredictions01))\n",
    "trainRMSE01, valRMSE01"
   ]
  },
  {
   "cell_type": "code",
   "execution_count": 16,
   "metadata": {},
   "outputs": [
    {
     "data": {
      "text/plain": [
       "(1.0007912404113715, 1.0416693311105685)"
      ]
     },
     "execution_count": 16,
     "metadata": {},
     "output_type": "execute_result"
    }
   ],
   "source": [
    "clf001 = linear_model.Ridge(0.01, fit_intercept=False)\n",
    "clf001.fit(X, y)\n",
    "theta001 = clf001.coef_\n",
    "predictions001 = clf001.predict(X)\n",
    "#Run MSE the trainning set with the model 0.1 alpha \n",
    "trainRMSE001 = math.sqrt(mean_squared_error(y, predictions001))\n",
    "\n",
    "valPredictions001 = clf001.predict(valX)\n",
    "#Run MSE the validation set with the model 0.1 alpha \n",
    "valRMSE001 = math.sqrt(mean_squared_error(valy, valPredictions001))\n",
    "trainRMSE001, valRMSE001"
   ]
  },
  {
   "cell_type": "code",
   "execution_count": 17,
   "metadata": {},
   "outputs": [],
   "source": [
    "def readUSrestaurants(fname):\n",
    "    for l in open(fname):\n",
    "        for rest in eval(l):\n",
    "            yield rest\n",
    "\n",
    "USrestaurants = set(readUSrestaurants('C:/Study/CSE 158/assignment2/CSE158-assignment2/USrestaurants.txt'))"
   ]
  },
  {
   "cell_type": "code",
   "execution_count": 29,
   "metadata": {},
   "outputs": [],
   "source": [
    "import json\n",
    "f = open('popularWords.json', 'w')\n",
    "f.write(json.dumps(wordId))\n",
    "f.close()"
   ]
  },
  {
   "cell_type": "code",
   "execution_count": 19,
   "metadata": {},
   "outputs": [],
   "source": [
    "def readReviewsUSRest(fname):\n",
    "    count = 0\n",
    "    for l in open(fname, encoding=\"UTF-8\"):\n",
    "        if count == 100000:\n",
    "            break\n",
    "        l=l.replace(\":null\",'\"\"')\n",
    "        count += 1\n",
    "        r = eval(l)\n",
    "        if r['business_id'] in USrestaurants:\n",
    "            yield r\n",
    "\n",
    "USrestaurants = list(readReviewsUSRest(\"yelp_academic_dataset_review.json\"))"
   ]
  },
  {
   "cell_type": "code",
   "execution_count": 37,
   "metadata": {},
   "outputs": [],
   "source": [
    "def checkStar(datum, star):\n",
    "    if datum['stars'] == star:\n",
    "        return True\n",
    "    else:\n",
    "        return False\n",
    "Stary = []\n",
    "StarValy = []\n",
    "StarSVM = []\n",
    "for i in range(0,5):\n",
    "    Stary.append( [checkStar(d, i+1) for d in review])\n",
    "    StarValy.append([checkStar(d, i+1) for d in valReview])\n",
    "    StarSVM.append(svm.LinearSVC(C=1.0, max_iter=100))\n",
    "    StarSVM[i].fit(X, Stary[i])"
   ]
  },
  {
   "cell_type": "code",
   "execution_count": 39,
   "metadata": {},
   "outputs": [],
   "source": [
    "StarTrainP = []\n",
    "StarValP = []\n",
    "for i in range(0,5):\n",
    "    StarTrainP.append(StarSVM[i].predict(X))\n",
    "    StarValP.append(StarSVM[i].predict(valX))"
   ]
  },
  {
   "cell_type": "code",
   "execution_count": 46,
   "metadata": {},
   "outputs": [],
   "source": [
    "# Iterate through the confidence scores and find the predicted score with max confidence\n",
    "maxConfPredictions = []\n",
    "for i in range(0,len(y)):\n",
    "    maxConf = -1.0\n",
    "    maxIndex = 0\n",
    "    for j in range(0,5):\n",
    "        if StarTrainP[j][i] > maxConf:\n",
    "            maxConf = StarTrainP[j][i]\n",
    "            maxIndex = j\n",
    "    maxConfPredictions.append(maxIndex+1)"
   ]
  },
  {
   "cell_type": "code",
   "execution_count": 47,
   "metadata": {},
   "outputs": [],
   "source": [
    "#Do the same for validation set\n",
    "valMaxConfPredictions = []\n",
    "for i in range(0,len(valy)):\n",
    "    maxConf = -1.0\n",
    "    maxIndex = 0\n",
    "    for j in range(0,5):\n",
    "        if StarValP[j][i] > maxConf:\n",
    "            maxConf = StarValP[j][i]\n",
    "            maxIndex = j\n",
    "    valMaxConfPredictions.append(maxIndex+1)"
   ]
  },
  {
   "cell_type": "code",
   "execution_count": 48,
   "metadata": {},
   "outputs": [
    {
     "data": {
      "text/plain": [
       "(1.4765364878661142, 1.5100993344810136)"
      ]
     },
     "execution_count": 48,
     "metadata": {},
     "output_type": "execute_result"
    }
   ],
   "source": [
    "SVMRMSE1 = math.sqrt(mean_squared_error(y, maxConfPredictions))\n",
    "valSVMRMSE1 = math.sqrt(mean_squared_error(valy, valMaxConfPredictions))\n",
    "SVMRMSE1,valSVMRMSE1"
   ]
  },
  {
   "cell_type": "code",
   "execution_count": 49,
   "metadata": {},
   "outputs": [
    {
     "data": {
      "text/plain": [
       "([1, 1, 1, 5, 1, 3, 5, 5, 1, 1], [2, 5, 2, 5, 4, 4, 5, 5, 1, 5])"
      ]
     },
     "execution_count": 49,
     "metadata": {},
     "output_type": "execute_result"
    }
   ],
   "source": [
    "valMaxConfPredictions[:10], valy[:10]"
   ]
  },
  {
   "cell_type": "code",
   "execution_count": 50,
   "metadata": {},
   "outputs": [],
   "source": [
    "# Run 500 iterations\n",
    "StarSVM500 = []\n",
    "for i in range(0,5):\n",
    "    StarSVM500.append(svm.LinearSVC(C=1.0, max_iter=500))\n",
    "    StarSVM500[i].fit(X, Stary[i])"
   ]
  },
  {
   "cell_type": "code",
   "execution_count": 51,
   "metadata": {},
   "outputs": [],
   "source": [
    "StarTrainP500 = []\n",
    "StarValP500 = []\n",
    "for i in range(0,5):\n",
    "    StarTrainP500.append(StarSVM500[i].predict(X))\n",
    "    StarValP500.append(StarSVM500[i].predict(valX))"
   ]
  },
  {
   "cell_type": "code",
   "execution_count": 52,
   "metadata": {},
   "outputs": [],
   "source": [
    "# Iterate through the confidence scores and find the predicted score with max confidence\n",
    "maxConfPredictions500 = []\n",
    "for i in range(0,len(y)):\n",
    "    maxConf = -1.0\n",
    "    maxIndex = 0\n",
    "    for j in range(0,5):\n",
    "        if StarTrainP500[j][i] > maxConf:\n",
    "            maxConf = StarTrainP500[j][i]\n",
    "            maxIndex = j\n",
    "    maxConfPredictions500.append(maxIndex+1)"
   ]
  },
  {
   "cell_type": "code",
   "execution_count": 53,
   "metadata": {},
   "outputs": [],
   "source": [
    "#Do the same for validation set\n",
    "valMaxConfPredictions500 = []\n",
    "for i in range(0,len(valy)):\n",
    "    maxConf = -1.0\n",
    "    maxIndex = 0\n",
    "    for j in range(0,5):\n",
    "        if StarValP500[j][i] > maxConf:\n",
    "            maxConf = StarValP500[j][i]\n",
    "            maxIndex = j\n",
    "    valMaxConfPredictions500.append(maxIndex+1)"
   ]
  },
  {
   "cell_type": "code",
   "execution_count": 54,
   "metadata": {},
   "outputs": [
    {
     "data": {
      "text/plain": [
       "(1.5107018236568062, 1.537231277329472)"
      ]
     },
     "execution_count": 54,
     "metadata": {},
     "output_type": "execute_result"
    }
   ],
   "source": [
    "SVMRMSE1500 = math.sqrt(mean_squared_error(y, maxConfPredictions500))\n",
    "valSVMRMSE1500 = math.sqrt(mean_squared_error(valy, valMaxConfPredictions500))\n",
    "SVMRMSE1500,valSVMRMSE1500"
   ]
  },
  {
   "cell_type": "code",
   "execution_count": 55,
   "metadata": {},
   "outputs": [],
   "source": [
    "# Run 50 iterations\n",
    "StarSVM50 = []\n",
    "for i in range(0,5):\n",
    "    StarSVM50.append(svm.LinearSVC(C=1.0, max_iter=50))\n",
    "    StarSVM50[i].fit(X, Stary[i])"
   ]
  },
  {
   "cell_type": "code",
   "execution_count": 56,
   "metadata": {},
   "outputs": [],
   "source": [
    "StarTrainP50 = []\n",
    "StarValP50 = []\n",
    "for i in range(0,5):\n",
    "    StarTrainP50.append(StarSVM50[i].predict(X))\n",
    "    StarValP50.append(StarSVM50[i].predict(valX))"
   ]
  },
  {
   "cell_type": "code",
   "execution_count": 60,
   "metadata": {},
   "outputs": [],
   "source": [
    "# Iterate through the confidence scores and find the predicted score with max confidence\n",
    "maxConfPredictions50 = []\n",
    "for i in range(0,len(y)):\n",
    "    maxConf = -1.0\n",
    "    maxIndex = 0\n",
    "    for j in range(0,5):\n",
    "        if StarTrainP50[j][i] > maxConf:\n",
    "            maxConf = StarTrainP50[j][i]\n",
    "            maxIndex = j\n",
    "    maxConfPredictions50.append(maxIndex+1)"
   ]
  },
  {
   "cell_type": "code",
   "execution_count": 61,
   "metadata": {},
   "outputs": [],
   "source": [
    "#Do the same for validation set\n",
    "valMaxConfPredictions50 = []\n",
    "for i in range(0,len(valy)):\n",
    "    maxConf = -1.0\n",
    "    maxIndex = 0\n",
    "    for j in range(0,5):\n",
    "        if StarValP50[j][i] > maxConf:\n",
    "            maxConf = StarValP50[j][i]\n",
    "            maxIndex = j\n",
    "    valMaxConfPredictions50.append(maxIndex+1)"
   ]
  },
  {
   "cell_type": "code",
   "execution_count": 62,
   "metadata": {},
   "outputs": [
    {
     "data": {
      "text/plain": [
       "(1.3208292849569925, 1.3664552682030977)"
      ]
     },
     "execution_count": 62,
     "metadata": {},
     "output_type": "execute_result"
    }
   ],
   "source": [
    "SVMRMSE150 = math.sqrt(mean_squared_error(y, maxConfPredictions50))\n",
    "valSVMRMSE150 = math.sqrt(mean_squared_error(valy, valMaxConfPredictions50))\n",
    "SVMRMSE150,valSVMRMSE150"
   ]
  },
  {
   "cell_type": "code",
   "execution_count": 63,
   "metadata": {},
   "outputs": [],
   "source": [
    "# Run 30 iterations\n",
    "StarSVM30 = []\n",
    "for i in range(0,5):\n",
    "    StarSVM30.append(svm.LinearSVC(C=1.0, max_iter=30))\n",
    "    StarSVM30[i].fit(X, Stary[i])"
   ]
  },
  {
   "cell_type": "code",
   "execution_count": 64,
   "metadata": {},
   "outputs": [],
   "source": [
    "StarTrainP30 = []\n",
    "StarValP30 = []\n",
    "for i in range(0,5):\n",
    "    StarTrainP30.append(StarSVM30[i].predict(X))\n",
    "    StarValP30.append(StarSVM30[i].predict(valX))"
   ]
  },
  {
   "cell_type": "code",
   "execution_count": 65,
   "metadata": {},
   "outputs": [],
   "source": [
    "# Iterate through the confidence scores and find the predicted score with max confidence\n",
    "maxConfPredictions30 = []\n",
    "for i in range(0,len(y)):\n",
    "    maxConf = -1.0\n",
    "    maxIndex = 0\n",
    "    for j in range(0,5):\n",
    "        if StarTrainP30[j][i] > maxConf:\n",
    "            maxConf = StarTrainP30[j][i]\n",
    "            maxIndex = j\n",
    "    maxConfPredictions30.append(maxIndex+1)"
   ]
  },
  {
   "cell_type": "code",
   "execution_count": 66,
   "metadata": {},
   "outputs": [],
   "source": [
    "#Do the same for validation set\n",
    "valMaxConfPredictions30 = []\n",
    "for i in range(0,len(valy)):\n",
    "    maxConf = -1.0\n",
    "    maxIndex = 0\n",
    "    for j in range(0,5):\n",
    "        if StarValP30[j][i] > maxConf:\n",
    "            maxConf = StarValP30[j][i]\n",
    "            maxIndex = j\n",
    "    valMaxConfPredictions30.append(maxIndex+1)"
   ]
  },
  {
   "cell_type": "code",
   "execution_count": 67,
   "metadata": {},
   "outputs": [
    {
     "data": {
      "text/plain": [
       "(1.4986093553691704, 1.5170497684650954)"
      ]
     },
     "execution_count": 67,
     "metadata": {},
     "output_type": "execute_result"
    }
   ],
   "source": [
    "SVMRMSE130 = math.sqrt(mean_squared_error(y, maxConfPredictions30))\n",
    "valSVMRMSE130 = math.sqrt(mean_squared_error(valy, valMaxConfPredictions30))\n",
    "SVMRMSE130,valSVMRMSE130"
   ]
  }
 ],
 "metadata": {
  "kernelspec": {
   "display_name": "Python 3",
   "language": "python",
   "name": "python3"
  },
  "language_info": {
   "codemirror_mode": {
    "name": "ipython",
    "version": 3
   },
   "file_extension": ".py",
   "mimetype": "text/x-python",
   "name": "python",
   "nbconvert_exporter": "python",
   "pygments_lexer": "ipython3",
   "version": "3.7.0"
  }
 },
 "nbformat": 4,
 "nbformat_minor": 2
}
