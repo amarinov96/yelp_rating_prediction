{
 "cells": [
  {
   "cell_type": "code",
   "execution_count": 9,
   "metadata": {},
   "outputs": [
    {
     "name": "stdout",
     "output_type": "stream",
     "text": [
      "[nltk_data] Downloading package stopwords to\n",
      "[nltk_data]     C:\\Users\\szbdr\\AppData\\Roaming\\nltk_data...\n",
      "[nltk_data]   Unzipping corpora\\stopwords.zip.\n"
     ]
    }
   ],
   "source": [
    "import numpy\n",
    "import urllib\n",
    "import scipy.optimize\n",
    "import random\n",
    "from collections import defaultdict\n",
    "import math\n",
    "import nltk\n",
    "import string\n",
    "from nltk.stem.porter import *\n",
    "nltk.download('stopwords')\n",
    "from nltk.corpus import stopwords\n",
    "from sklearn import linear_model\n",
    "from sklearn.metrics import mean_squared_error"
   ]
  },
  {
   "cell_type": "code",
   "execution_count": 2,
   "metadata": {},
   "outputs": [],
   "source": [
    "def readData(fname, startLine, endLine):\n",
    "    count = 0\n",
    "    for l in open(fname, encoding=\"UTF-8\"):\n",
    "        if count < startLine:\n",
    "            count += 1\n",
    "            continue\n",
    "        elif count < endLine:\n",
    "            l=l.replace(\":null\",'\"\"')\n",
    "            yield eval(l)\n",
    "            count += 1\n",
    "        else:\n",
    "            break"
   ]
  },
  {
   "cell_type": "code",
   "execution_count": 3,
   "metadata": {},
   "outputs": [],
   "source": [
    "review = list(readData(\"yelp_academic_dataset_review.json\",0,100000))"
   ]
  },
  {
   "cell_type": "code",
   "execution_count": 30,
   "metadata": {},
   "outputs": [],
   "source": [
    "wordCount = defaultdict(int)\n",
    "punctuation = set(string.punctuation)\n",
    "stemmer = PorterStemmer()\n",
    "stopwordSet = set()\n",
    "#Process stopwords set\n",
    "for sw in stopwords.words('english'):\n",
    "    nonPunSW = ''.join([c for c in sw if not c in punctuation])\n",
    "    stopwordSet.add(stemmer.stem(nonPunSW))\n",
    "\n",
    "for d in review:\n",
    "    r = ''.join([c for c in d['text'].lower() if not c in punctuation])\n",
    "    for w in r.split():\n",
    "        w = stemmer.stem(w)\n",
    "        if w not in stopwordSet:\n",
    "            wordCount[w] += 1\n",
    "\n",
    "counts = [(wordCount[w], w) for w in wordCount]\n",
    "counts.sort()\n",
    "counts.reverse()"
   ]
  },
  {
   "cell_type": "code",
   "execution_count": 31,
   "metadata": {},
   "outputs": [],
   "source": [
    "words = [x[1] for x in counts[:2000]]\n",
    "wordId = dict(zip(words, range(len(words))))\n",
    "wordSet = set(words)"
   ]
  },
  {
   "cell_type": "code",
   "execution_count": 34,
   "metadata": {},
   "outputs": [],
   "source": [
    "def feature(datum):\n",
    "    feat = [0]*len(words)\n",
    "    r = ''.join([c for c in datum['text'].lower() if not c in punctuation])\n",
    "    for w in r.split():\n",
    "        w = stemmer.stem(w)\n",
    "        if w not in stopwordSet:\n",
    "            if w in wordSet:\n",
    "                feat[wordId[w]] += 1\n",
    "    feat.append(1) #offset\n",
    "    return feat"
   ]
  },
  {
   "cell_type": "code",
   "execution_count": 35,
   "metadata": {},
   "outputs": [],
   "source": [
    "# Run a linear model using the 2000 most popular words,\n",
    "# stemmed, with stopwords removed, with no preclassification by category\n",
    "X = [feature(d) for d in review]\n",
    "y = [d['stars'] for d in review]\n",
    "\n",
    "valReview = list(readData(\"yelp_academic_dataset_review.json\",100000,125000))\n",
    "valX = [feature(d) for d in valReview]\n",
    "valy = [d['stars'] for d in valReview]"
   ]
  },
  {
   "cell_type": "code",
   "execution_count": 60,
   "metadata": {},
   "outputs": [
    {
     "data": {
      "text/plain": [
       "(1.0007913432419648, 1.0416184658743517)"
      ]
     },
     "execution_count": 60,
     "metadata": {},
     "output_type": "execute_result"
    }
   ],
   "source": [
    "clf = linear_model.Ridge(1.0, fit_intercept=False)\n",
    "clf.fit(X, y)\n",
    "theta = clf.coef_\n",
    "predictions = clf.predict(X)\n",
    "#Run MSE the trainning set with the model 1.0 alpha \n",
    "trainRMSE = math.sqrt(mean_squared_error(y, predictions))\n",
    "\n",
    "valPredictions = clf.predict(valX)\n",
    "#Run MSE the validation set with the model 1.0 alpha \n",
    "valRMSE = math.sqrt(mean_squared_error(valy, valPredictions))\n",
    "trainRMSE, valRMSE"
   ]
  },
  {
   "cell_type": "code",
   "execution_count": 59,
   "metadata": {},
   "outputs": [
    {
     "data": {
      "text/plain": [
       "(1.0008011767214173, 1.0411741847591955)"
      ]
     },
     "execution_count": 59,
     "metadata": {},
     "output_type": "execute_result"
    }
   ],
   "source": [
    "clf10 = linear_model.Ridge(10.0, fit_intercept=False)\n",
    "clf10.fit(X, y)\n",
    "theta10 = clf10.coef_\n",
    "predictions10 = clf10.predict(X)\n",
    "#Run MSE the training set with the model 10.0 alpha \n",
    "trainRMSE10 =math.sqrt(mean_squared_error(y, predictions10))\n",
    "\n",
    "valPredictions10 = clf10.predict(valX)\n",
    "#Run MSE the validation set with the model 10.0 alpha \n",
    "valRMSE10 = math.sqrt(mean_squared_error(valy, valPredictions10))\n",
    "trainRMSE10, valRMSE10"
   ]
  },
  {
   "cell_type": "code",
   "execution_count": 61,
   "metadata": {},
   "outputs": [
    {
     "data": {
      "text/plain": [
       "(1.0015330332357493, 1.0381008345891514)"
      ]
     },
     "execution_count": 61,
     "metadata": {},
     "output_type": "execute_result"
    }
   ],
   "source": [
    "clf100 = linear_model.Ridge(100.0, fit_intercept=False)\n",
    "clf100.fit(X, y)\n",
    "theta100 = clf100.coef_\n",
    "predictions100 = clf100.predict(X)\n",
    "#Run MSE the trainning set with the model 100.0 alpha \n",
    "trainRMSE100 = math.sqrt(mean_squared_error(y, predictions100))\n",
    "\n",
    "valPredictions100 = clf100.predict(valX)\n",
    "#Run MSE the validation set with the model 100.0 alpha \n",
    "valRMSE100 = math.sqrt(mean_squared_error(valy, valPredictions100))\n",
    "trainRMSE100, valRMSE100"
   ]
  },
  {
   "cell_type": "code",
   "execution_count": 64,
   "metadata": {},
   "outputs": [
    {
     "data": {
      "text/plain": [
       "(1.0007912414330795, 1.0416646901545525)"
      ]
     },
     "execution_count": 64,
     "metadata": {},
     "output_type": "execute_result"
    }
   ],
   "source": [
    "clf01 = linear_model.Ridge(0.1, fit_intercept=False)\n",
    "clf01.fit(X, y)\n",
    "theta01 = clf01.coef_\n",
    "predictions01 = clf01.predict(X)\n",
    "#Run MSE the trainning set with the model 0.1 alpha \n",
    "trainRMSE01 = math.sqrt(mean_squared_error(y, predictions01))\n",
    "\n",
    "valPredictions01 = clf01.predict(valX)\n",
    "#Run MSE the validation set with the model 0.1 alpha \n",
    "valRMSE01 = math.sqrt(mean_squared_error(valy, valPredictions01))\n",
    "trainRMSE01, valRMSE01"
   ]
  },
  {
   "cell_type": "code",
   "execution_count": 65,
   "metadata": {},
   "outputs": [
    {
     "data": {
      "text/plain": [
       "(1.0007912404113715, 1.0416693311105685)"
      ]
     },
     "execution_count": 65,
     "metadata": {},
     "output_type": "execute_result"
    }
   ],
   "source": [
    "clf001 = linear_model.Ridge(0.01, fit_intercept=False)\n",
    "clf001.fit(X, y)\n",
    "theta001 = clf001.coef_\n",
    "predictions001 = clf001.predict(X)\n",
    "#Run MSE the trainning set with the model 0.1 alpha \n",
    "trainRMSE001 = math.sqrt(mean_squared_error(y, predictions001))\n",
    "\n",
    "valPredictions001 = clf001.predict(valX)\n",
    "#Run MSE the validation set with the model 0.1 alpha \n",
    "valRMSE001 = math.sqrt(mean_squared_error(valy, valPredictions001))\n",
    "trainRMSE001, valRMSE001"
   ]
  },
  {
   "cell_type": "code",
   "execution_count": null,
   "metadata": {},
   "outputs": [],
   "source": []
  },
  {
   "cell_type": "code",
   "execution_count": null,
   "metadata": {},
   "outputs": [],
   "source": []
  }
 ],
 "metadata": {
  "kernelspec": {
   "display_name": "Python 3",
   "language": "python",
   "name": "python3"
  },
  "language_info": {
   "codemirror_mode": {
    "name": "ipython",
    "version": 3
   },
   "file_extension": ".py",
   "mimetype": "text/x-python",
   "name": "python",
   "nbconvert_exporter": "python",
   "pygments_lexer": "ipython3",
   "version": "3.7.0"
  }
 },
 "nbformat": 4,
 "nbformat_minor": 2
}
